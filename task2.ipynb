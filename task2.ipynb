{
 "cells": [
  {
   "cell_type": "code",
   "execution_count": 1,
   "metadata": {},
   "outputs": [
    {
     "name": "stderr",
     "output_type": "stream",
     "text": [
      "WARNING:absl:Tensorflow library not found, tensorflow.io.gfile operations will use native shim calls. GCS paths (i.e. 'gs://...') cannot be accessed.\n"
     ]
    }
   ],
   "source": [
    "from configs.task_2 import get_config\n",
    "from model import ConvVAE, reparameterize\n",
    "from utils.vae import save_image\n",
    "\n",
    "import jax\n",
    "import jax.numpy as jnp\n",
    "from flax.training.checkpoints import restore_checkpoint\n",
    "\n",
    "rng = jax.random.PRNGKey(42)"
   ]
  },
  {
   "cell_type": "code",
   "execution_count": 2,
   "metadata": {},
   "outputs": [],
   "source": [
    "from task2_dataset import load_image, get_image_path\n",
    "\n",
    "woman = load_image(get_image_path(\"task2_dataset/lfw/Aishwarya_Rai\"))[0]\n",
    "old_man = load_image(get_image_path(\"task2_dataset/lfw/Bernard_Ebbers\"))[0]\n",
    "rd_jr = load_image(get_image_path(\"task2_dataset/lfw/Robert_Downey_Jr\"))[0]\n",
    "leo_dc = load_image(get_image_path(\"task2_dataset/lfw/Leonardo_DiCaprio\"))[0]\n",
    "zrj = load_image([\"task2_dataset/lfw/Zhu_Rongji/Zhu_Rongji_0009.jpg\"])[0]\n",
    "james = load_image([\"task2_dataset/lfw/LeBron_James/LeBron_James_0001.jpg\"])[0]\n",
    "joey = load_image(get_image_path(\"task2_dataset/lfw/Matt_LeBlanc\"))[0]\n",
    "chandler = load_image([\"task2_dataset/lfw/Matthew_Perry/Matthew_Perry_0007.jpg\"])[0]\n",
    "rachel = load_image([\"task2_dataset/lfw/Jennifer_Aniston/Jennifer_Aniston_0016.jpg\"])[0]\n",
    "\n",
    "imgs = jnp.einsum(\"bchw->bhwc\", jnp.stack([old_man, rd_jr, leo_dc, zrj, james, joey, chandler, rachel], axis=0))"
   ]
  },
  {
   "cell_type": "code",
   "execution_count": 3,
   "metadata": {},
   "outputs": [],
   "source": [
    "config = get_config()\n",
    "variables = restore_checkpoint(\"ckpts\", None, prefix=\"task2_\")\n",
    "model = ConvVAE(config)"
   ]
  },
  {
   "cell_type": "code",
   "execution_count": 4,
   "metadata": {},
   "outputs": [],
   "source": [
    "rng, _rng = jax.random.split(rng) \n",
    "mean, logvar = model.apply(variables, imgs, method=\"encode\")\n",
    "zs = reparameterize(_rng, mean, logvar)"
   ]
  },
  {
   "cell_type": "code",
   "execution_count": 5,
   "metadata": {},
   "outputs": [],
   "source": [
    "alphas = [0.0, 0.2, 0.3, 0.5, 0.6, 0.7, 0.9, 1.0]\n",
    "inps = []\n",
    "\n",
    "for z0, z1 in zip(zs[:-1], zs[1:]):\n",
    "  for alpha in alphas:\n",
    "    z = alpha * z0 + (1 - alpha) * z1\n",
    "    inps.append(z)\n",
    "\n",
    "inps = jnp.array(inps)"
   ]
  },
  {
   "cell_type": "code",
   "execution_count": 6,
   "metadata": {},
   "outputs": [],
   "source": [
    "imgs = model.apply(variables, inps, method=\"decode\")\n",
    "save_image(imgs, \"outputs/vae_recon.pdf\", nrow=8)"
   ]
  }
 ],
 "metadata": {
  "kernelspec": {
   "display_name": "ml-final",
   "language": "python",
   "name": "python3"
  },
  "language_info": {
   "codemirror_mode": {
    "name": "ipython",
    "version": 3
   },
   "file_extension": ".py",
   "mimetype": "text/x-python",
   "name": "python",
   "nbconvert_exporter": "python",
   "pygments_lexer": "ipython3",
   "version": "3.10.11"
  },
  "orig_nbformat": 4
 },
 "nbformat": 4,
 "nbformat_minor": 2
}
